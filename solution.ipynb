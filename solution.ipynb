{
 "cells": [
  {
   "cell_type": "markdown",
   "metadata": {},
   "source": [
    "# ITU Informatics Institute BLU603E Final Exam - Take Home Section\n",
    "## Part - 1\n",
    "\n",
    "For this take home assignment, a linear classifier will be designed to separate a dataset into two classes. Let's first examine the dataset by looking at the dataset. There are two classes denoted as $\\omega_0$ and $\\omega_1$ and there are 100 data points for each.\n",
    "\n"
   ]
  },
  {
   "cell_type": "code",
   "execution_count": 15,
   "metadata": {},
   "outputs": [
    {
     "data": {
      "image/png": "[encoded data removed]",
      "text/plain": [
       "<matplotlib.figure.Figure at 0x7fa126479240>"
      ]
     },
     "metadata": {},
     "output_type": "display_data"
    }
   ],
   "source": [
    "import numpy as np\n",
    "import matplotlib.pyplot as plt\n",
    "\n",
    "#################################################\n",
    "# PREPROCESS PART\n",
    "#################################################\n",
    "\n",
    "c1_np = np.zeros((100, 2), dtype=np.float32)\n",
    "c2_np = np.zeros((100, 2), dtype=np.float32)\n",
    "\n",
    "with open(\"C1_pts.txt\", 'r') as f:\n",
    "    c1_items = f.read().split(\"\\n\")[4:]\n",
    "    for d, item in enumerate(c1_items):\n",
    "        c1_np[d, :] = item.split()\n",
    "        \n",
    "with open(\"C2_pts.txt\", 'r') as f:\n",
    "    c2_items = f.read().split(\"\\n\")[4:]\n",
    "    for d, item in enumerate(c2_items):\n",
    "        c2_np[d, :] = item.split()\n",
    "\n",
    "c1_c2_np = np.vstack((c1_np, c2_np))\n",
    "gt = np.concatenate((np.zeros(100, dtype=np.int8), np.ones(100, dtype=np.int8)))\n",
    "\n",
    "plt.scatter(c1_np[:, 0], c1_np[:, 1], alpha=0.5)\n",
    "plt.scatter(c2_np[:, 0], c2_np[:, 1], alpha=0.5)\n",
    "plt.show()"
   ]
  },
  {
   "cell_type": "markdown",
   "metadata": {},
   "source": [
    "The data is noisy, but with a slight error, it can still be separable with a straight line. First, we would like to see if we can construct the line by fitting two 2-D Gaussians on this dataset. In this case, we need to estimate the mean and variance parameters for each Gaussian, and we are eager to see if covariances are close to each other for every axis. We will be using Maximum Likelihood for estimations. "
   ]
  },
  {
   "cell_type": "code",
   "execution_count": 2,
   "metadata": {},
   "outputs": [
    {
     "name": "stdout",
     "output_type": "stream",
     "text": [
      "Mean vector of class 0 is: [1.9626492 1.9038787]\n",
      "Mean vector of class 1 is: [ 0.12308503 -0.07268096]\n",
      "\n",
      "Covariance matrix of class 0 is: \n",
      "[[ 0.93394097 -0.11066026]\n",
      " [-0.11066026  1.07921646]]\n",
      "Covariance matrix of class 1 is: \n",
      "[[1.35117639 0.08811922]\n",
      " [0.08811922 1.0101348 ]]\n"
     ]
    }
   ],
   "source": [
    "mean_c1 = np.mean(c1_np, axis=0)\n",
    "mean_c2 = np.mean(c2_np, axis=0)\n",
    "\n",
    "print(\"Mean vector of class 0 is: {}\".format(mean_c1))\n",
    "print(\"Mean vector of class 1 is: {}\".format(mean_c2))\n",
    "\n",
    "print(\"\")\n",
    "\n",
    "cov_c1 = np.cov(c1_np.T)\n",
    "cov_c2 = np.cov(c2_np.T)\n",
    "\n",
    "print(\"Covariance matrix of class 0 is: \\n{}\".format(cov_c1))\n",
    "print(\"Covariance matrix of class 1 is: \\n{}\".format(cov_c2))\n",
    "\n",
    "est_cov = np.round((cov_c1+cov_c2)/2, decimals=2)"
   ]
  },
  {
   "cell_type": "markdown",
   "metadata": {},
   "source": [
    "The results above state that mean of the first and second classes are located at $(1.963, 1.904)$ and $(0.1231, -0.0727)$. However, there is a gap between the estimated covariance matrices that, we cannot create a linear decision line by fitting these datapoints two Gaussians. If we set our estimated covariance matrix for two classes to be,\n",
    "$$\n",
    "\\Sigma_{est} = \\left(\\begin{array}{cc} \n",
    "1.14 & -0.01\\\\\n",
    "-0.01 & 1.04\n",
    "\\end{array}\\right)\n",
    "$$\n",
    "\n",
    "which is the rounded average of two covariance matrices $\\Sigma_1$ and $\\Sigma_2$, the class likelihood function $P( x | \\omega_i)$ is going to be \n",
    "\n",
    "$$\n",
    "P(x | \\omega_i) = \\frac{1}{2 \\pi |\\Sigma_{est}|^{1/2}}e^{-\\frac{1}{2}(x - \\mu_i)^T\\Sigma_{est}^{-1}(x - \\mu_i)}\n",
    "$$\n",
    "\n",
    "In this equation, $\\omega_i$ refers to the class label and $\\mu_i$ is the mean of samples for each class. \n",
    "\n",
    "If our prior probabilities for each class is set to be equal that\n",
    "$P(\\omega_0) = P(\\omega_1) = \\frac{100}{200} = 0.5$, the class posterior probability $P(\\omega_i | x )$ will be \n",
    "\n",
    "$$\n",
    "P(\\omega_i | x ) = \\frac{P(x | \\omega_i) P(\\omega_i)}{\\sum_{j=0}^{1} P(x | \\omega_j) P(\\omega_j) } = \\frac{P(x | \\omega_i)}{\\sum_{j=0}^{1} P(x | \\omega_j)}\n",
    "$$\n",
    "\n",
    "For our case to make a decision favoring one class, we need to see class posterior probabilies and choose the class favoring the higher posterior probability such that,\n",
    "$$\n",
    "P(\\omega_0 | x ) \\underset{\\omega_1}{\\overset{\\omega_0}  \\gtrless}  P(\\omega_1 | x )\n",
    "$$\n",
    "which is our decision rule based on the class posterior densities. \n",
    "\n",
    "Using our class posterior density definition, which we omited the prior densities are equal to each other, we can switch to the conditional prior densities \n",
    "\n",
    "$$\n",
    "P(x | \\omega_0 ) \\underset{\\omega_1}{\\overset{\\omega_0} \\gtrless}  P(x | \\omega_1).\n",
    "$$\n",
    "$$\n",
    "\\frac{1}{2 \\pi |\\Sigma_{est}|^{1/2}}e^{-\\frac{1}{2}(x - \\mu_0)^T\\Sigma_{est}^{-1}(x - \\mu_0)} \\underset{\\omega_1}{\\overset{\\omega_0} \\gtrless}  \\frac{1}{2 \\pi |\\Sigma_{est}|^{1/2}}e^{-\\frac{1}{2}(x - \\mu_1)^T\\Sigma_{est}^{-1}(x - \\mu_1)}\n",
    "$$\n",
    "\n",
    "Omitting the constant terms and applying a logarithm will convert the decision rule into this form.\n",
    "$$\n",
    "(x - \\mu_0)^T\\Sigma_{est}^{-1}(x - \\mu_0) \\underset{\\omega_1}{\\overset{\\omega_0} \\gtrless} (x - \\mu_1)^T\\Sigma_{est}^{-1}(x - \\mu_1)\n",
    "$$\n",
    "\n",
    "After the parentheses are expanded the decision rule simplifies from  \n",
    "\n",
    "$$\n",
    "x^T\\Sigma_{est}^{-1}x - x^T\\Sigma_{est}^{-1}\\mu_0 - \\mu_0^T\\Sigma_{est}^{-1}x + \\mu_0^T\\Sigma_{est}^{-1}\\mu_0 \\underset{\\omega_1}{\\overset{\\omega_0} \\gtrless} x^T\\Sigma_{est}^{-1}x - x^T\\Sigma_{est}^{-1}\\mu_1 - \\mu_1^T\\Sigma_{est}^{-1}x + \\mu_1^T\\Sigma_{est}^{-1}\\mu_1\n",
    "$$\n",
    "\n",
    "to,\n",
    "\n",
    "$$\n",
    "- x^T\\Sigma_{est}^{-1}\\mu_0 - \\mu_0^T\\Sigma_{est}^{-1}x + \\mu_0^T\\Sigma_{est}^{-1}\\mu_0 \\underset{\\omega_1}{\\overset{\\omega_0} \\gtrless}  - x^T\\Sigma_{est}^{-1}\\mu_1 - \\mu_1^T\\Sigma_{est}^{-1}x + \\mu_1^T\\Sigma_{est}^{-1}\\mu_1\n",
    "$$\n",
    "\n",
    "or more simply, \n",
    "\n",
    "$$\n",
    "-2x^T\\Sigma_{est}^{-1}\\mu_0 + \\mu_0^T\\Sigma_{est}^{-1}\\mu_0 \\underset{\\omega_1}{\\overset{\\omega_0} \\gtrless}  -2x^T\\Sigma_{est}^{-1}\\mu_1 + \\mu_1^T\\Sigma_{est}^{-1}\\mu_1.\n",
    "$$\n",
    "\n",
    "If we set two of the sides equal, we will be obtaining a linear decision line splitting the data into two regions, since there are no quadratic terms in the equation. The boundary line as follows:\n",
    "\n",
    "$$\n",
    "b(x) = 2x^T\\Sigma_{est}^{-1}(\\mu_1 - \\mu_0) + \\mu_0^T\\Sigma_{est}^{-1}\\mu_0 - \\mu_1^T\\Sigma_{est}^{-1}\\mu_1 \\underset{\\omega_1}{\\overset{\\omega_0} \\gtrless} 0\n",
    "$$\n",
    "Let's start writing definitions for our discriminant and boundary functions. Also at the bottom, a definition to evaluate our models is provided to see the performance metrics. It will output the confusion matrix, accuracy, recall and precision."
   ]
  },
  {
   "cell_type": "code",
   "execution_count": 3,
   "metadata": {},
   "outputs": [],
   "source": [
    "from sklearn.metrics import confusion_matrix\n",
    "\n",
    "def discrimant_func(x, mu, Sigma):\n",
    "    inv_sigma = np.linalg.inv(Sigma)\n",
    "    w = inv_sigma.dot(mu)\n",
    "    second_term = np.dot(mu, w)\n",
    "    first_term = -2*np.dot(x, w)\n",
    "    return first_term+second_term\n",
    "\n",
    "def boundary_func(x, mu1, mu2, Sigma):\n",
    "    inv_sigma = np.linalg.inv(Sigma)\n",
    "    first_term = 2*np.dot(np.dot(x, inv_sigma), mu2-mu1)\n",
    "    second_term = np.dot(np.dot(mu1, inv_sigma), mu1)\n",
    "    third_term = np.dot(np.dot(mu2, inv_sigma), mu2)\n",
    "    sum_terms = first_term+second_term-third_term\n",
    "    thetas = np.array((2*np.dot(inv_sigma, mu2-mu1), second_term-third_term))\n",
    "    return sum_terms, thetas\n",
    "\n",
    "def evaluation(gt, preds):\n",
    "    conf_mat = confusion_matrix(gt, preds)\n",
    "    print(\"Confusion Matrix:\\n {}\".format(conf_mat))\n",
    "    tn, fp, fn, tp = conf_mat.ravel()\n",
    "\n",
    "    print(\"Accuracy: {}\".format((tp+tn)/(fn+fp+tp+tn)))\n",
    "    print(\"Recall: {}\".format((tp)/(tp+fp)))\n",
    "    print(\"Precision: {}\".format((tp)/(tp+fn)))"
   ]
  },
  {
   "cell_type": "markdown",
   "metadata": {},
   "source": [
    "For assigning labels, we can either use discriminant function or a linear boundary line. There will be two discriminant functions $g_0(x)$ and $g_1(x)$ , which we will assign the label by comparing the values of these functions such that,\n",
    "$$\n",
    "g_0(x) \\underset{\\omega_1}{\\overset{\\omega_0} \\gtrless} g_1(x)\n",
    "$$"
   ]
  },
  {
   "cell_type": "code",
   "execution_count": 4,
   "metadata": {},
   "outputs": [],
   "source": [
    "scores_points_mu1 = discrimant_func(c1_c2_np, mean_c1, est_cov)\n",
    "scores_points_mu2 = discrimant_func(c1_c2_np, mean_c2, est_cov)\n",
    "\n",
    "preds = np.where(scores_points_mu1>scores_points_mu2, 1, 0)"
   ]
  },
  {
   "cell_type": "markdown",
   "metadata": {},
   "source": [
    "We can obtain the confusion matrix by using the prediction and ground truth values as implemented below."
   ]
  },
  {
   "cell_type": "code",
   "execution_count": 5,
   "metadata": {},
   "outputs": [
    {
     "name": "stdout",
     "output_type": "stream",
     "text": [
      "Confusion Matrix:\n",
      " [[91  9]\n",
      " [10 90]]\n",
      "Accuracy: 0.905\n",
      "Recall: 0.9090909090909091\n",
      "Precision: 0.9\n"
     ]
    }
   ],
   "source": [
    "evaluation(gt, preds)"
   ]
  },
  {
   "cell_type": "markdown",
   "metadata": {},
   "source": [
    "The performance seems to be acceptable on an artificially created dataset with almost 10% of error. "
   ]
  },
  {
   "cell_type": "markdown",
   "metadata": {},
   "source": [
    "Alternatively, we can use the boundary function $b(x)$ that is located between two Gaussian distributions for deciding which samples belong to which class. For the values of the function larger than 0, samples will be assigned to $\\omega_1$. Else, the assigned label will be $\\omega_2$. Mathematically, it can be shown as\n",
    "\n",
    "$$\n",
    "b(x) \\underset{\\omega_1}{\\overset{\\omega_0} \\gtrless} 0\n",
    "$$\n",
    "\n",
    "and the predictions with the weight coefficients can be derived below."
   ]
  },
  {
   "cell_type": "code",
   "execution_count": 6,
   "metadata": {},
   "outputs": [
    {
     "name": "stdout",
     "output_type": "stream",
     "text": [
      "Our boundary function's weights are: [array([-3.26092344, -3.83243126]) 6.909679576724731]\n"
     ]
    }
   ],
   "source": [
    "preds2 = np.where(boundary_func(c1_c2_np, mean_c1, mean_c2, est_cov)[0]<0,0 , 1)\n",
    "weights = boundary_func(c1_c2_np, mean_c1, mean_c2, est_cov)[1]\n",
    "print(\"Our boundary function's weights are: {}\".format(weights))"
   ]
  },
  {
   "cell_type": "markdown",
   "metadata": {},
   "source": [
    "There are weight elements to be dotted with the input and a bias element in our \"weights\" variable. In order to show that predicting labels by a boundary function is equivalent to predicting via discriminant functions, we showed the confusion matrix and evaluation metrics below."
   ]
  },
  {
   "cell_type": "code",
   "execution_count": 7,
   "metadata": {},
   "outputs": [
    {
     "name": "stdout",
     "output_type": "stream",
     "text": [
      "Confusion Matrix:\n",
      " [[91  9]\n",
      " [10 90]]\n",
      "Accuracy: 0.905\n",
      "Recall: 0.9090909090909091\n",
      "Precision: 0.9\n"
     ]
    }
   ],
   "source": [
    "evaluation(gt, preds2)"
   ]
  },
  {
   "cell_type": "markdown",
   "metadata": {},
   "source": [
    "By examining the recall, precision and accuracy metrics, we can conclude that our linear model is successful in discriminating two classes with 10% error. We plotted the hyperplane on the figure as below."
   ]
  },
  {
   "cell_type": "code",
   "execution_count": 8,
   "metadata": {},
   "outputs": [
    {
     "data": {
      "image/png": "[encoded data removed]",
      "text/plain": [
       "<matplotlib.figure.Figure at 0x7fa121918588>"
      ]
     },
     "metadata": {},
     "output_type": "display_data"
    }
   ],
   "source": [
    "x1_axis = np.arange(-3, 5, step=0.0001)\n",
    "x2_axis = (-weights[1] - x1_axis*weights[0][0])/weights[0][1]\n",
    "\n",
    "plt.scatter(c1_np[:, 0], c1_np[:, 1], alpha=0.25)\n",
    "plt.scatter(c2_np[:, 0], c2_np[:, 1], alpha=0.25)\n",
    "plt.plot(x1_axis, x2_axis, marker = 'x', color='green', markersize=1)\n",
    "plt.show()"
   ]
  },
  {
   "cell_type": "markdown",
   "metadata": {},
   "source": [
    "## Part - 2\n",
    "For this section, we will be evaluating the same method by adding zero-mean Gaussian noise with $\\sigma^2=0.1$. The estimated and rounded covariance will be modifyed as follows."
   ]
  },
  {
   "cell_type": "code",
   "execution_count": 12,
   "metadata": {},
   "outputs": [
    {
     "name": "stdout",
     "output_type": "stream",
     "text": [
      "Mean vector of class 0 is: [1.9626492 1.9038787]\n",
      "Mean vector of class 1 is: [ 0.12308503 -0.07268096]\n",
      "Covariance matrix of class 0 is: \n",
      "[[ 0.93394097 -0.11066026]\n",
      " [-0.11066026  1.07921646]]\n",
      "Covariance matrix of class 1 is: \n",
      "[[1.35117639 0.08811922]\n",
      " [0.08811922 1.0101348 ]]\n"
     ]
    }
   ],
   "source": [
    "noise = np.random.normal(loc=0, scale=np.sqrt(0.1), size=c1_c2_np.shape)\n",
    "\n",
    "c1_c2_np_noisy = c1_c2_np + noise\n",
    "c1_np_noisy = c1_np + noise[:100]\n",
    "c2_np_noisy = c2_np + noise[100:]\n",
    "\n",
    "mean_c1_noisy = np.mean(c1_np, axis=0)\n",
    "mean_c2_noisy = np.mean(c2_np, axis=0)\n",
    "\n",
    "print(\"Mean vector of class 0 is: {}\".format(mean_c1_noisy))\n",
    "print(\"Mean vector of class 1 is: {}\".format(mean_c2_noisy))\n",
    "\n",
    "cov_c1_noisy = np.cov(c1_np_noisy.T)\n",
    "cov_c2_noisy = np.cov(c2_np_noisy.T)\n",
    "\n",
    "print(\"Covariance matrix of class 0 is: \\n{}\".format(cov_c1))\n",
    "print(\"Covariance matrix of class 1 is: \\n{}\".format(cov_c2))\n",
    "\n",
    "est_cov_noisy = np.round((cov_c1_noisy+cov_c2_noisy)/2, decimals=2)"
   ]
  },
  {
   "cell_type": "markdown",
   "metadata": {},
   "source": [
    "Our estimated covariance matrix will be:\n",
    "\n",
    "$$\n",
    "\\Sigma_{est-noisy} = \\left(\\begin{array}{cc} \n",
    "1.3 & -0.02\\\\\n",
    "-0.02 & 1.09\n",
    "\\end{array}\\right)\n",
    "$$"
   ]
  },
  {
   "cell_type": "code",
   "execution_count": 10,
   "metadata": {},
   "outputs": [
    {
     "name": "stdout",
     "output_type": "stream",
     "text": [
      "Confusion Matrix:\n",
      " [[89 11]\n",
      " [11 89]]\n",
      "Accuracy: 0.89\n",
      "Recall: 0.89\n",
      "Precision: 0.89\n"
     ]
    }
   ],
   "source": [
    "noisy_scores_points_mu1 = discrimant_func(c1_c2_np_noisy, mean_c1_noisy, est_cov_noisy)\n",
    "noisy_scores_points_mu2 = discrimant_func(c1_c2_np_noisy, mean_c2_noisy, est_cov_noisy)\n",
    "\n",
    "preds_noisy = np.where(noisy_scores_points_mu1>noisy_scores_points_mu2, 1, 0)\n",
    "\n",
    "evaluation(gt, preds_noisy)\n",
    "\n",
    "weights_noisy = boundary_func(c1_c2_np_noisy, mean_c1_noisy, mean_c2_noisy, est_cov_noisy)[1]"
   ]
  },
  {
   "cell_type": "markdown",
   "metadata": {},
   "source": [
    "It can be said that the noise reduced our performance metrics around 1 - 2%. Even though we are using a linear classifier, we can say that our model is performing well against noise. "
   ]
  },
  {
   "cell_type": "code",
   "execution_count": 13,
   "metadata": {},
   "outputs": [
    {
     "data": {
      "image/png": "[encoded data removed]",
      "text/plain": [
       "<matplotlib.figure.Figure at 0x7fa118cb5208>"
      ]
     },
     "metadata": {},
     "output_type": "display_data"
    }
   ],
   "source": [
    "x1_axis = np.arange(-3, 5, step=0.0001)\n",
    "x2_axis = (-weights_noisy[1] - x1_axis*weights_noisy[0][0])/weights_noisy[0][1]\n",
    "\n",
    "plt.scatter(c1_np_noisy[:, 0], c1_np_noisy[:, 1], alpha=0.25)\n",
    "plt.scatter(c2_np_noisy[:, 0], c2_np_noisy[:, 1], alpha=0.25)\n",
    "plt.plot(x1_axis, x2_axis, marker = 'x', color='green', markersize=1)\n",
    "plt.show()"
   ]
  },
  {
   "cell_type": "markdown",
   "metadata": {},
   "source": [
    "You can find the link for running this iPython notebook here: https://github.com/canerozer/BLU603E-Final-Exam---Take-Home-Sections"
   ]
  }
 ],
 "metadata": {
  "kernelspec": {
   "display_name": "Python 3",
   "language": "python",
   "name": "python3"
  },
  "language_info": {
   "codemirror_mode": {
    "name": "ipython",
    "version": 3
   },
   "file_extension": ".py",
   "mimetype": "text/x-python",
   "name": "python",
   "nbconvert_exporter": "python",
   "pygments_lexer": "ipython3",
   "version": "3.5.2"
  }
 },
 "nbformat": 4,
 "nbformat_minor": 2
}
